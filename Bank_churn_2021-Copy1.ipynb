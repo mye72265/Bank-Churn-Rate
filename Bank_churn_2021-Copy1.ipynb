{
 "cells": [
  {
   "cell_type": "markdown",
   "id": "04c9664a",
   "metadata": {},
   "source": [
    "### Import the libraries"
   ]
  },
  {
   "cell_type": "code",
   "execution_count": 1,
   "id": "32b86b64",
   "metadata": {},
   "outputs": [],
   "source": [
    "import pandas as pd\n",
    "import matplotlib.pyplot as plt\n",
    "import seaborn as sns\n",
    "import numpy as np\n",
    "from sklearn.preprocessing import OneHotEncoder\n",
    "from sklearn.model_selection import cross_val_predict, StratifiedKFold\n",
    "from sklearn.metrics import roc_auc_score, roc_curve\n",
    "from sklearn.ensemble import RandomForestClassifier\n",
    "from sklearn.tree import DecisionTreeClassifier\n",
    "from sklearn.linear_model import LogisticRegression\n",
    "from xgboost import XGBClassifier\n",
    "from sklearn import metrics"
   ]
  },
  {
   "cell_type": "code",
   "execution_count": 2,
   "id": "89bec2b6",
   "metadata": {},
   "outputs": [
    {
     "data": {
      "text/html": [
       "<div>\n",
       "<style scoped>\n",
       "    .dataframe tbody tr th:only-of-type {\n",
       "        vertical-align: middle;\n",
       "    }\n",
       "\n",
       "    .dataframe tbody tr th {\n",
       "        vertical-align: top;\n",
       "    }\n",
       "\n",
       "    .dataframe thead th {\n",
       "        text-align: right;\n",
       "    }\n",
       "</style>\n",
       "<table border=\"1\" class=\"dataframe\">\n",
       "  <thead>\n",
       "    <tr style=\"text-align: right;\">\n",
       "      <th></th>\n",
       "      <th>credit_score</th>\n",
       "      <th>country</th>\n",
       "      <th>gender</th>\n",
       "      <th>age</th>\n",
       "      <th>tenure</th>\n",
       "      <th>balance</th>\n",
       "      <th>products_number</th>\n",
       "      <th>credit_card</th>\n",
       "      <th>active_member</th>\n",
       "      <th>estimated_salary</th>\n",
       "      <th>churn</th>\n",
       "    </tr>\n",
       "  </thead>\n",
       "  <tbody>\n",
       "    <tr>\n",
       "      <th>0</th>\n",
       "      <td>619</td>\n",
       "      <td>France</td>\n",
       "      <td>Female</td>\n",
       "      <td>42</td>\n",
       "      <td>2</td>\n",
       "      <td>0.00</td>\n",
       "      <td>1</td>\n",
       "      <td>1</td>\n",
       "      <td>1</td>\n",
       "      <td>101348.88</td>\n",
       "      <td>1</td>\n",
       "    </tr>\n",
       "    <tr>\n",
       "      <th>1</th>\n",
       "      <td>608</td>\n",
       "      <td>Spain</td>\n",
       "      <td>Female</td>\n",
       "      <td>41</td>\n",
       "      <td>1</td>\n",
       "      <td>83807.86</td>\n",
       "      <td>1</td>\n",
       "      <td>0</td>\n",
       "      <td>1</td>\n",
       "      <td>112542.58</td>\n",
       "      <td>0</td>\n",
       "    </tr>\n",
       "    <tr>\n",
       "      <th>2</th>\n",
       "      <td>502</td>\n",
       "      <td>France</td>\n",
       "      <td>Female</td>\n",
       "      <td>42</td>\n",
       "      <td>8</td>\n",
       "      <td>159660.80</td>\n",
       "      <td>3</td>\n",
       "      <td>1</td>\n",
       "      <td>0</td>\n",
       "      <td>113931.57</td>\n",
       "      <td>1</td>\n",
       "    </tr>\n",
       "    <tr>\n",
       "      <th>3</th>\n",
       "      <td>699</td>\n",
       "      <td>France</td>\n",
       "      <td>Female</td>\n",
       "      <td>39</td>\n",
       "      <td>1</td>\n",
       "      <td>0.00</td>\n",
       "      <td>2</td>\n",
       "      <td>0</td>\n",
       "      <td>0</td>\n",
       "      <td>93826.63</td>\n",
       "      <td>0</td>\n",
       "    </tr>\n",
       "    <tr>\n",
       "      <th>4</th>\n",
       "      <td>850</td>\n",
       "      <td>Spain</td>\n",
       "      <td>Female</td>\n",
       "      <td>43</td>\n",
       "      <td>2</td>\n",
       "      <td>125510.82</td>\n",
       "      <td>1</td>\n",
       "      <td>1</td>\n",
       "      <td>1</td>\n",
       "      <td>79084.10</td>\n",
       "      <td>0</td>\n",
       "    </tr>\n",
       "  </tbody>\n",
       "</table>\n",
       "</div>"
      ],
      "text/plain": [
       "   credit_score country  gender  age  tenure    balance  products_number  \\\n",
       "0           619  France  Female   42       2       0.00                1   \n",
       "1           608   Spain  Female   41       1   83807.86                1   \n",
       "2           502  France  Female   42       8  159660.80                3   \n",
       "3           699  France  Female   39       1       0.00                2   \n",
       "4           850   Spain  Female   43       2  125510.82                1   \n",
       "\n",
       "   credit_card  active_member  estimated_salary  churn  \n",
       "0            1              1         101348.88      1  \n",
       "1            0              1         112542.58      0  \n",
       "2            1              0         113931.57      1  \n",
       "3            0              0          93826.63      0  \n",
       "4            1              1          79084.10      0  "
      ]
     },
     "execution_count": 2,
     "metadata": {},
     "output_type": "execute_result"
    }
   ],
   "source": [
    "df = pd.read_csv(r\"C:\\Users\\johnm\\Downloads\\archive (15).zip\").drop(columns='customer_id')\n",
    "df.head()"
   ]
  },
  {
   "cell_type": "code",
   "execution_count": 3,
   "id": "d6301cab",
   "metadata": {},
   "outputs": [],
   "source": [
    "# Target is Churn\n",
    "# the target is labeled 1 if the client has left the bank during some period or 0 if he/she has not."
   ]
  },
  {
   "cell_type": "markdown",
   "id": "ca274579",
   "metadata": {},
   "source": [
    "### Explore the Dataset"
   ]
  },
  {
   "cell_type": "code",
   "execution_count": 4,
   "id": "91c14033",
   "metadata": {},
   "outputs": [
    {
     "data": {
      "text/plain": [
       "credit_score          int64\n",
       "country              object\n",
       "gender               object\n",
       "age                   int64\n",
       "tenure                int64\n",
       "balance             float64\n",
       "products_number       int64\n",
       "credit_card           int64\n",
       "active_member         int64\n",
       "estimated_salary    float64\n",
       "churn                 int64\n",
       "dtype: object"
      ]
     },
     "execution_count": 4,
     "metadata": {},
     "output_type": "execute_result"
    }
   ],
   "source": [
    "df.dtypes"
   ]
  },
  {
   "cell_type": "code",
   "execution_count": 5,
   "id": "528a3316",
   "metadata": {},
   "outputs": [
    {
     "data": {
      "text/plain": [
       "array(['France', 'Spain', 'Germany'], dtype=object)"
      ]
     },
     "execution_count": 5,
     "metadata": {},
     "output_type": "execute_result"
    }
   ],
   "source": [
    "df.country.unique()"
   ]
  },
  {
   "cell_type": "code",
   "execution_count": 6,
   "id": "0b50c123",
   "metadata": {},
   "outputs": [
    {
     "data": {
      "text/plain": [
       "Index(['credit_score', 'country', 'gender', 'age', 'tenure', 'balance',\n",
       "       'products_number', 'credit_card', 'active_member', 'estimated_salary',\n",
       "       'churn'],\n",
       "      dtype='object')"
      ]
     },
     "execution_count": 6,
     "metadata": {},
     "output_type": "execute_result"
    }
   ],
   "source": [
    "df.columns"
   ]
  },
  {
   "cell_type": "code",
   "execution_count": 7,
   "id": "94c1b05b",
   "metadata": {},
   "outputs": [
    {
     "data": {
      "text/html": [
       "<div>\n",
       "<style scoped>\n",
       "    .dataframe tbody tr th:only-of-type {\n",
       "        vertical-align: middle;\n",
       "    }\n",
       "\n",
       "    .dataframe tbody tr th {\n",
       "        vertical-align: top;\n",
       "    }\n",
       "\n",
       "    .dataframe thead th {\n",
       "        text-align: right;\n",
       "    }\n",
       "</style>\n",
       "<table border=\"1\" class=\"dataframe\">\n",
       "  <thead>\n",
       "    <tr style=\"text-align: right;\">\n",
       "      <th></th>\n",
       "      <th>credit_score</th>\n",
       "      <th>age</th>\n",
       "      <th>tenure</th>\n",
       "      <th>balance</th>\n",
       "      <th>products_number</th>\n",
       "      <th>credit_card</th>\n",
       "      <th>active_member</th>\n",
       "      <th>estimated_salary</th>\n",
       "      <th>churn</th>\n",
       "    </tr>\n",
       "  </thead>\n",
       "  <tbody>\n",
       "    <tr>\n",
       "      <th>count</th>\n",
       "      <td>10000.000000</td>\n",
       "      <td>10000.000000</td>\n",
       "      <td>10000.000000</td>\n",
       "      <td>10000.000000</td>\n",
       "      <td>10000.000000</td>\n",
       "      <td>10000.00000</td>\n",
       "      <td>10000.000000</td>\n",
       "      <td>10000.000000</td>\n",
       "      <td>10000.000000</td>\n",
       "    </tr>\n",
       "    <tr>\n",
       "      <th>mean</th>\n",
       "      <td>650.528800</td>\n",
       "      <td>38.921800</td>\n",
       "      <td>5.012800</td>\n",
       "      <td>76485.889288</td>\n",
       "      <td>1.530200</td>\n",
       "      <td>0.70550</td>\n",
       "      <td>0.515100</td>\n",
       "      <td>100090.239881</td>\n",
       "      <td>0.203700</td>\n",
       "    </tr>\n",
       "    <tr>\n",
       "      <th>std</th>\n",
       "      <td>96.653299</td>\n",
       "      <td>10.487806</td>\n",
       "      <td>2.892174</td>\n",
       "      <td>62397.405202</td>\n",
       "      <td>0.581654</td>\n",
       "      <td>0.45584</td>\n",
       "      <td>0.499797</td>\n",
       "      <td>57510.492818</td>\n",
       "      <td>0.402769</td>\n",
       "    </tr>\n",
       "    <tr>\n",
       "      <th>min</th>\n",
       "      <td>350.000000</td>\n",
       "      <td>18.000000</td>\n",
       "      <td>0.000000</td>\n",
       "      <td>0.000000</td>\n",
       "      <td>1.000000</td>\n",
       "      <td>0.00000</td>\n",
       "      <td>0.000000</td>\n",
       "      <td>11.580000</td>\n",
       "      <td>0.000000</td>\n",
       "    </tr>\n",
       "    <tr>\n",
       "      <th>25%</th>\n",
       "      <td>584.000000</td>\n",
       "      <td>32.000000</td>\n",
       "      <td>3.000000</td>\n",
       "      <td>0.000000</td>\n",
       "      <td>1.000000</td>\n",
       "      <td>0.00000</td>\n",
       "      <td>0.000000</td>\n",
       "      <td>51002.110000</td>\n",
       "      <td>0.000000</td>\n",
       "    </tr>\n",
       "    <tr>\n",
       "      <th>50%</th>\n",
       "      <td>652.000000</td>\n",
       "      <td>37.000000</td>\n",
       "      <td>5.000000</td>\n",
       "      <td>97198.540000</td>\n",
       "      <td>1.000000</td>\n",
       "      <td>1.00000</td>\n",
       "      <td>1.000000</td>\n",
       "      <td>100193.915000</td>\n",
       "      <td>0.000000</td>\n",
       "    </tr>\n",
       "    <tr>\n",
       "      <th>75%</th>\n",
       "      <td>718.000000</td>\n",
       "      <td>44.000000</td>\n",
       "      <td>7.000000</td>\n",
       "      <td>127644.240000</td>\n",
       "      <td>2.000000</td>\n",
       "      <td>1.00000</td>\n",
       "      <td>1.000000</td>\n",
       "      <td>149388.247500</td>\n",
       "      <td>0.000000</td>\n",
       "    </tr>\n",
       "    <tr>\n",
       "      <th>max</th>\n",
       "      <td>850.000000</td>\n",
       "      <td>92.000000</td>\n",
       "      <td>10.000000</td>\n",
       "      <td>250898.090000</td>\n",
       "      <td>4.000000</td>\n",
       "      <td>1.00000</td>\n",
       "      <td>1.000000</td>\n",
       "      <td>199992.480000</td>\n",
       "      <td>1.000000</td>\n",
       "    </tr>\n",
       "  </tbody>\n",
       "</table>\n",
       "</div>"
      ],
      "text/plain": [
       "       credit_score           age        tenure        balance  \\\n",
       "count  10000.000000  10000.000000  10000.000000   10000.000000   \n",
       "mean     650.528800     38.921800      5.012800   76485.889288   \n",
       "std       96.653299     10.487806      2.892174   62397.405202   \n",
       "min      350.000000     18.000000      0.000000       0.000000   \n",
       "25%      584.000000     32.000000      3.000000       0.000000   \n",
       "50%      652.000000     37.000000      5.000000   97198.540000   \n",
       "75%      718.000000     44.000000      7.000000  127644.240000   \n",
       "max      850.000000     92.000000     10.000000  250898.090000   \n",
       "\n",
       "       products_number  credit_card  active_member  estimated_salary  \\\n",
       "count     10000.000000  10000.00000   10000.000000      10000.000000   \n",
       "mean          1.530200      0.70550       0.515100     100090.239881   \n",
       "std           0.581654      0.45584       0.499797      57510.492818   \n",
       "min           1.000000      0.00000       0.000000         11.580000   \n",
       "25%           1.000000      0.00000       0.000000      51002.110000   \n",
       "50%           1.000000      1.00000       1.000000     100193.915000   \n",
       "75%           2.000000      1.00000       1.000000     149388.247500   \n",
       "max           4.000000      1.00000       1.000000     199992.480000   \n",
       "\n",
       "              churn  \n",
       "count  10000.000000  \n",
       "mean       0.203700  \n",
       "std        0.402769  \n",
       "min        0.000000  \n",
       "25%        0.000000  \n",
       "50%        0.000000  \n",
       "75%        0.000000  \n",
       "max        1.000000  "
      ]
     },
     "execution_count": 7,
     "metadata": {},
     "output_type": "execute_result"
    }
   ],
   "source": [
    "df.describe()\n",
    "# Will need to scale based on range of values"
   ]
  },
  {
   "cell_type": "code",
   "execution_count": 8,
   "id": "76318b16",
   "metadata": {},
   "outputs": [
    {
     "name": "stdout",
     "output_type": "stream",
     "text": [
      "<class 'pandas.core.frame.DataFrame'>\n",
      "RangeIndex: 10000 entries, 0 to 9999\n",
      "Data columns (total 11 columns):\n",
      " #   Column            Non-Null Count  Dtype  \n",
      "---  ------            --------------  -----  \n",
      " 0   credit_score      10000 non-null  int64  \n",
      " 1   country           10000 non-null  object \n",
      " 2   gender            10000 non-null  object \n",
      " 3   age               10000 non-null  int64  \n",
      " 4   tenure            10000 non-null  int64  \n",
      " 5   balance           10000 non-null  float64\n",
      " 6   products_number   10000 non-null  int64  \n",
      " 7   credit_card       10000 non-null  int64  \n",
      " 8   active_member     10000 non-null  int64  \n",
      " 9   estimated_salary  10000 non-null  float64\n",
      " 10  churn             10000 non-null  int64  \n",
      "dtypes: float64(2), int64(7), object(2)\n",
      "memory usage: 859.5+ KB\n"
     ]
    }
   ],
   "source": [
    "df.info()"
   ]
  },
  {
   "cell_type": "code",
   "execution_count": 9,
   "id": "57968464",
   "metadata": {},
   "outputs": [
    {
     "data": {
      "text/plain": [
       "credit_score        0\n",
       "country             0\n",
       "gender              0\n",
       "age                 0\n",
       "tenure              0\n",
       "balance             0\n",
       "products_number     0\n",
       "credit_card         0\n",
       "active_member       0\n",
       "estimated_salary    0\n",
       "churn               0\n",
       "dtype: int64"
      ]
     },
     "execution_count": 9,
     "metadata": {},
     "output_type": "execute_result"
    }
   ],
   "source": [
    "pd.isnull(df).sum()"
   ]
  },
  {
   "cell_type": "code",
   "execution_count": 10,
   "id": "858ed955",
   "metadata": {},
   "outputs": [
    {
     "data": {
      "text/plain": [
       "(10000, 11)"
      ]
     },
     "execution_count": 10,
     "metadata": {},
     "output_type": "execute_result"
    }
   ],
   "source": [
    "df.shape"
   ]
  },
  {
   "cell_type": "code",
   "execution_count": 11,
   "id": "3f4f91bb",
   "metadata": {},
   "outputs": [
    {
     "data": {
      "text/plain": [
       "France     5014\n",
       "Germany    2509\n",
       "Spain      2477\n",
       "Name: country, dtype: int64"
      ]
     },
     "execution_count": 11,
     "metadata": {},
     "output_type": "execute_result"
    }
   ],
   "source": [
    "df.country.value_counts()\n",
    "# Imbalanced, might try a confusion matrix like model,usually if target variable is imbalanced"
   ]
  },
  {
   "cell_type": "code",
   "execution_count": 12,
   "id": "139d9c54",
   "metadata": {},
   "outputs": [
    {
     "data": {
      "text/html": [
       "<div>\n",
       "<style scoped>\n",
       "    .dataframe tbody tr th:only-of-type {\n",
       "        vertical-align: middle;\n",
       "    }\n",
       "\n",
       "    .dataframe tbody tr th {\n",
       "        vertical-align: top;\n",
       "    }\n",
       "\n",
       "    .dataframe thead th {\n",
       "        text-align: right;\n",
       "    }\n",
       "</style>\n",
       "<table border=\"1\" class=\"dataframe\">\n",
       "  <thead>\n",
       "    <tr style=\"text-align: right;\">\n",
       "      <th></th>\n",
       "      <th>credit_score</th>\n",
       "      <th>age</th>\n",
       "      <th>tenure</th>\n",
       "      <th>balance</th>\n",
       "      <th>products_number</th>\n",
       "      <th>credit_card</th>\n",
       "      <th>active_member</th>\n",
       "      <th>estimated_salary</th>\n",
       "      <th>churn</th>\n",
       "    </tr>\n",
       "  </thead>\n",
       "  <tbody>\n",
       "    <tr>\n",
       "      <th>credit_score</th>\n",
       "      <td>1.000000</td>\n",
       "      <td>-0.003965</td>\n",
       "      <td>0.000842</td>\n",
       "      <td>0.006268</td>\n",
       "      <td>0.012238</td>\n",
       "      <td>-0.005458</td>\n",
       "      <td>0.025651</td>\n",
       "      <td>-0.001384</td>\n",
       "      <td>-0.027094</td>\n",
       "    </tr>\n",
       "    <tr>\n",
       "      <th>age</th>\n",
       "      <td>-0.003965</td>\n",
       "      <td>1.000000</td>\n",
       "      <td>-0.009997</td>\n",
       "      <td>0.028308</td>\n",
       "      <td>-0.030680</td>\n",
       "      <td>-0.011721</td>\n",
       "      <td>0.085472</td>\n",
       "      <td>-0.007201</td>\n",
       "      <td>0.285323</td>\n",
       "    </tr>\n",
       "    <tr>\n",
       "      <th>tenure</th>\n",
       "      <td>0.000842</td>\n",
       "      <td>-0.009997</td>\n",
       "      <td>1.000000</td>\n",
       "      <td>-0.012254</td>\n",
       "      <td>0.013444</td>\n",
       "      <td>0.022583</td>\n",
       "      <td>-0.028362</td>\n",
       "      <td>0.007784</td>\n",
       "      <td>-0.014001</td>\n",
       "    </tr>\n",
       "    <tr>\n",
       "      <th>balance</th>\n",
       "      <td>0.006268</td>\n",
       "      <td>0.028308</td>\n",
       "      <td>-0.012254</td>\n",
       "      <td>1.000000</td>\n",
       "      <td>-0.304180</td>\n",
       "      <td>-0.014858</td>\n",
       "      <td>-0.010084</td>\n",
       "      <td>0.012797</td>\n",
       "      <td>0.118533</td>\n",
       "    </tr>\n",
       "    <tr>\n",
       "      <th>products_number</th>\n",
       "      <td>0.012238</td>\n",
       "      <td>-0.030680</td>\n",
       "      <td>0.013444</td>\n",
       "      <td>-0.304180</td>\n",
       "      <td>1.000000</td>\n",
       "      <td>0.003183</td>\n",
       "      <td>0.009612</td>\n",
       "      <td>0.014204</td>\n",
       "      <td>-0.047820</td>\n",
       "    </tr>\n",
       "    <tr>\n",
       "      <th>credit_card</th>\n",
       "      <td>-0.005458</td>\n",
       "      <td>-0.011721</td>\n",
       "      <td>0.022583</td>\n",
       "      <td>-0.014858</td>\n",
       "      <td>0.003183</td>\n",
       "      <td>1.000000</td>\n",
       "      <td>-0.011866</td>\n",
       "      <td>-0.009933</td>\n",
       "      <td>-0.007138</td>\n",
       "    </tr>\n",
       "    <tr>\n",
       "      <th>active_member</th>\n",
       "      <td>0.025651</td>\n",
       "      <td>0.085472</td>\n",
       "      <td>-0.028362</td>\n",
       "      <td>-0.010084</td>\n",
       "      <td>0.009612</td>\n",
       "      <td>-0.011866</td>\n",
       "      <td>1.000000</td>\n",
       "      <td>-0.011421</td>\n",
       "      <td>-0.156128</td>\n",
       "    </tr>\n",
       "    <tr>\n",
       "      <th>estimated_salary</th>\n",
       "      <td>-0.001384</td>\n",
       "      <td>-0.007201</td>\n",
       "      <td>0.007784</td>\n",
       "      <td>0.012797</td>\n",
       "      <td>0.014204</td>\n",
       "      <td>-0.009933</td>\n",
       "      <td>-0.011421</td>\n",
       "      <td>1.000000</td>\n",
       "      <td>0.012097</td>\n",
       "    </tr>\n",
       "    <tr>\n",
       "      <th>churn</th>\n",
       "      <td>-0.027094</td>\n",
       "      <td>0.285323</td>\n",
       "      <td>-0.014001</td>\n",
       "      <td>0.118533</td>\n",
       "      <td>-0.047820</td>\n",
       "      <td>-0.007138</td>\n",
       "      <td>-0.156128</td>\n",
       "      <td>0.012097</td>\n",
       "      <td>1.000000</td>\n",
       "    </tr>\n",
       "  </tbody>\n",
       "</table>\n",
       "</div>"
      ],
      "text/plain": [
       "                  credit_score       age    tenure   balance  products_number  \\\n",
       "credit_score          1.000000 -0.003965  0.000842  0.006268         0.012238   \n",
       "age                  -0.003965  1.000000 -0.009997  0.028308        -0.030680   \n",
       "tenure                0.000842 -0.009997  1.000000 -0.012254         0.013444   \n",
       "balance               0.006268  0.028308 -0.012254  1.000000        -0.304180   \n",
       "products_number       0.012238 -0.030680  0.013444 -0.304180         1.000000   \n",
       "credit_card          -0.005458 -0.011721  0.022583 -0.014858         0.003183   \n",
       "active_member         0.025651  0.085472 -0.028362 -0.010084         0.009612   \n",
       "estimated_salary     -0.001384 -0.007201  0.007784  0.012797         0.014204   \n",
       "churn                -0.027094  0.285323 -0.014001  0.118533        -0.047820   \n",
       "\n",
       "                  credit_card  active_member  estimated_salary     churn  \n",
       "credit_score        -0.005458       0.025651         -0.001384 -0.027094  \n",
       "age                 -0.011721       0.085472         -0.007201  0.285323  \n",
       "tenure               0.022583      -0.028362          0.007784 -0.014001  \n",
       "balance             -0.014858      -0.010084          0.012797  0.118533  \n",
       "products_number      0.003183       0.009612          0.014204 -0.047820  \n",
       "credit_card          1.000000      -0.011866         -0.009933 -0.007138  \n",
       "active_member       -0.011866       1.000000         -0.011421 -0.156128  \n",
       "estimated_salary    -0.009933      -0.011421          1.000000  0.012097  \n",
       "churn               -0.007138      -0.156128          0.012097  1.000000  "
      ]
     },
     "execution_count": 12,
     "metadata": {},
     "output_type": "execute_result"
    }
   ],
   "source": [
    "df.corr() # dont need to do this"
   ]
  },
  {
   "cell_type": "markdown",
   "id": "486fff75",
   "metadata": {},
   "source": [
    "### Use of Graphs will allow us explore the data further"
   ]
  },
  {
   "cell_type": "code",
   "execution_count": 13,
   "id": "a1d47932",
   "metadata": {},
   "outputs": [
    {
     "data": {
      "image/png": "[encoded data removed]",
      "text/plain": [
       "<Figure size 432x288 with 2 Axes>"
      ]
     },
     "metadata": {
      "needs_background": "light"
     },
     "output_type": "display_data"
    }
   ],
   "source": [
    "# plotting correlation heatmap\n",
    "dataplot = sns.heatmap(df.corr(), cmap=\"YlGnBu\", annot=True)\n",
    "# seems age has the most common association with churn"
   ]
  },
  {
   "cell_type": "code",
   "execution_count": 14,
   "id": "11f4af5b",
   "metadata": {},
   "outputs": [
    {
     "data": {
      "text/plain": [
       "Text(0.5, 1.0, 'Age vs Churn')"
      ]
     },
     "execution_count": 14,
     "metadata": {},
     "output_type": "execute_result"
    },
    {
     "data": {
      "image/png": "[encoded data removed]",
      "text/plain": [
       "<Figure size 432x288 with 1 Axes>"
      ]
     },
     "metadata": {
      "needs_background": "light"
     },
     "output_type": "display_data"
    }
   ],
   "source": [
    "plt.boxplot([df[df['churn']==1]['age'], df[df['churn']!=1]['age']], labels = [\"Churn\", \"No churn\"])\n",
    "plt.ylabel('Age')\n",
    "plt.title('Age vs Churn')\n",
    "# No churn boxplot shows many outliers which means it has alot more data then the churn boxplot."
   ]
  },
  {
   "cell_type": "code",
   "execution_count": 15,
   "id": "e4b9806d",
   "metadata": {},
   "outputs": [
    {
     "data": {
      "text/plain": [
       "<AxesSubplot:ylabel='Frequency'>"
      ]
     },
     "execution_count": 15,
     "metadata": {},
     "output_type": "execute_result"
    },
    {
     "data": {
      "image/png": "[encoded data removed]",
      "text/plain": [
       "<Figure size 864x864 with 1 Axes>"
      ]
     },
     "metadata": {
      "needs_background": "light"
     },
     "output_type": "display_data"
    }
   ],
   "source": [
    "df.age.plot(kind = 'hist',bins = 72,figsize = (12,12))\n",
    "# not many elderly values represented in the dataset in the first place\n",
    "# the target is labeled 1 if the client has left the bank during some period or 0 if he/she has not."
   ]
  },
  {
   "cell_type": "code",
   "execution_count": 16,
   "id": "e66b1df3",
   "metadata": {},
   "outputs": [
    {
     "data": {
      "text/html": [
       "<div>\n",
       "<style scoped>\n",
       "    .dataframe tbody tr th:only-of-type {\n",
       "        vertical-align: middle;\n",
       "    }\n",
       "\n",
       "    .dataframe tbody tr th {\n",
       "        vertical-align: top;\n",
       "    }\n",
       "\n",
       "    .dataframe thead th {\n",
       "        text-align: right;\n",
       "    }\n",
       "</style>\n",
       "<table border=\"1\" class=\"dataframe\">\n",
       "  <thead>\n",
       "    <tr style=\"text-align: right;\">\n",
       "      <th>gender</th>\n",
       "      <th>Female</th>\n",
       "      <th>Male</th>\n",
       "    </tr>\n",
       "    <tr>\n",
       "      <th>churn</th>\n",
       "      <th></th>\n",
       "      <th></th>\n",
       "    </tr>\n",
       "  </thead>\n",
       "  <tbody>\n",
       "    <tr>\n",
       "      <th>0</th>\n",
       "      <td>3404</td>\n",
       "      <td>4559</td>\n",
       "    </tr>\n",
       "    <tr>\n",
       "      <th>1</th>\n",
       "      <td>1139</td>\n",
       "      <td>898</td>\n",
       "    </tr>\n",
       "  </tbody>\n",
       "</table>\n",
       "</div>"
      ],
      "text/plain": [
       "gender  Female  Male\n",
       "churn               \n",
       "0         3404  4559\n",
       "1         1139   898"
      ]
     },
     "execution_count": 16,
     "metadata": {},
     "output_type": "execute_result"
    }
   ],
   "source": [
    "from sklearn.metrics import ConfusionMatrixDisplay\n",
    "\n",
    "gender_churn_df = df.groupby([\"gender\", \"churn\"]).count()[['age']].rename({\"age\": \"count\"}, axis=1).reset_index()\n",
    "gender_churn_df = gender_churn_df.pivot(index=\"churn\", columns=\"gender\", values=\"count\")\n",
    "gender_churn_mat = np.array(gender_churn_df)\n",
    "gender_churn_df"
   ]
  },
  {
   "cell_type": "code",
   "execution_count": 17,
   "id": "71abaa4f",
   "metadata": {},
   "outputs": [],
   "source": [
    "output=pd.DataFrame(gender_churn_mat,columns=['female','male'])\n",
    "output.index.name='churn'"
   ]
  },
  {
   "cell_type": "code",
   "execution_count": 18,
   "id": "61efc7df",
   "metadata": {},
   "outputs": [
    {
     "data": {
      "text/html": [
       "<div>\n",
       "<style scoped>\n",
       "    .dataframe tbody tr th:only-of-type {\n",
       "        vertical-align: middle;\n",
       "    }\n",
       "\n",
       "    .dataframe tbody tr th {\n",
       "        vertical-align: top;\n",
       "    }\n",
       "\n",
       "    .dataframe thead th {\n",
       "        text-align: right;\n",
       "    }\n",
       "</style>\n",
       "<table border=\"1\" class=\"dataframe\">\n",
       "  <thead>\n",
       "    <tr style=\"text-align: right;\">\n",
       "      <th></th>\n",
       "      <th>female</th>\n",
       "      <th>male</th>\n",
       "    </tr>\n",
       "    <tr>\n",
       "      <th>churn</th>\n",
       "      <th></th>\n",
       "      <th></th>\n",
       "    </tr>\n",
       "  </thead>\n",
       "  <tbody>\n",
       "    <tr>\n",
       "      <th>0</th>\n",
       "      <td>3404</td>\n",
       "      <td>4559</td>\n",
       "    </tr>\n",
       "    <tr>\n",
       "      <th>1</th>\n",
       "      <td>1139</td>\n",
       "      <td>898</td>\n",
       "    </tr>\n",
       "  </tbody>\n",
       "</table>\n",
       "</div>"
      ],
      "text/plain": [
       "       female  male\n",
       "churn              \n",
       "0        3404  4559\n",
       "1        1139   898"
      ]
     },
     "execution_count": 18,
     "metadata": {},
     "output_type": "execute_result"
    }
   ],
   "source": [
    "output"
   ]
  },
  {
   "cell_type": "markdown",
   "id": "80b701f5",
   "metadata": {},
   "source": [
    "### One Hot Encoding"
   ]
  },
  {
   "cell_type": "code",
   "execution_count": 20,
   "id": "d9d83085",
   "metadata": {},
   "outputs": [],
   "source": [
    "# convert categorical column to dummy\n",
    "df_dummy = pd.get_dummies(df, drop_first=True)\n",
    "kf = StratifiedKFold(n_splits=10, shuffle=True) "
   ]
  },
  {
   "cell_type": "code",
   "execution_count": 21,
   "id": "8d09e6cb",
   "metadata": {},
   "outputs": [],
   "source": [
    "X=df_dummy.drop('churn',axis=1)\n",
    "y=df_dummy['churn']"
   ]
  },
  {
   "cell_type": "code",
   "execution_count": 22,
   "id": "d0c1045e",
   "metadata": {},
   "outputs": [],
   "source": [
    "from sklearn.metrics import accuracy_score, precision_score, recall_score, f1_score"
   ]
  },
  {
   "cell_type": "markdown",
   "id": "8e7bf05c",
   "metadata": {},
   "source": [
    "### Check dataset to see if it is balanced"
   ]
  },
  {
   "cell_type": "code",
   "execution_count": 23,
   "id": "46354144",
   "metadata": {},
   "outputs": [
    {
     "data": {
      "text/plain": [
       "0    0.7963\n",
       "1    0.2037\n",
       "Name: churn, dtype: float64"
      ]
     },
     "execution_count": 23,
     "metadata": {},
     "output_type": "execute_result"
    }
   ],
   "source": [
    "y.value_counts(normalize=True)"
   ]
  },
  {
   "cell_type": "markdown",
   "id": "ab2d0e7b",
   "metadata": {},
   "source": [
    "#### We see that the dataset is imbalanced as there are nearly four times as many not churned as churned."
   ]
  },
  {
   "cell_type": "markdown",
   "id": "bf841800",
   "metadata": {},
   "source": [
    "### Logistic Regression"
   ]
  },
  {
   "cell_type": "code",
   "execution_count": 24,
   "id": "f9fd5800",
   "metadata": {},
   "outputs": [],
   "source": [
    "# Set the number of folds dont use\n",
    "n_folds = 10 #5\n",
    "\n",
    "# Create a KFold object\n",
    "kf = StratifiedKFold(n_splits=n_folds, shuffle=True, random_state=42)\n",
    "\n",
    "# Get the k-fold cross values\n",
    "folds = kf.split(X, y, groups=None)\n",
    "all_accs=[]\n",
    "all_precs=[]\n",
    "all_recs=[]\n",
    "all_f1s=[]\n",
    "\n",
    "# Print the k-fold cross values\n",
    "for i, (train_index, test_index) in enumerate(folds):\n",
    "    #print(f\"Fold {i+1}: train_index={train_index}, test_index={test_index}\")\n",
    "    \n",
    "    X_train,y_train= X.iloc[train_index],y.iloc[train_index]\n",
    "    X_test,y_test= X.iloc[test_index],y.iloc[test_index]\n",
    "    \n",
    "    lr = LogisticRegression(max_iter=800) ## ML Classification Model\n",
    "    lr.fit(X_train,y_train)\n",
    "    \n",
    "    y_test_pred=lr.predict(X_test)\n",
    "    all_accs.append(accuracy_score(y_test,y_test_pred))\n",
    "    all_precs.append(precision_score(y_test,y_test_pred))\n",
    "    all_recs.append(recall_score(y_test,y_test_pred))\n",
    "    all_f1s.append(f1_score(y_test,y_test_pred))\n",
    "    \n",
    "    "
   ]
  },
  {
   "cell_type": "code",
   "execution_count": 25,
   "id": "39fbcdc4",
   "metadata": {},
   "outputs": [
    {
     "name": "stdout",
     "output_type": "stream",
     "text": [
      "Model accuracy:  0.7896\n",
      "Model precision:  0.39317076955157204\n",
      "Model recall:  0.05695933545832127\n",
      "Model f1:  0.09916107816883935\n"
     ]
    },
    {
     "data": {
      "text/plain": [
       "<sklearn.metrics._plot.confusion_matrix.ConfusionMatrixDisplay at 0x2086cca8460>"
      ]
     },
     "execution_count": 25,
     "metadata": {},
     "output_type": "execute_result"
    },
    {
     "data": {
      "image/png": "[encoded data removed]",
      "text/plain": [
       "<Figure size 432x288 with 2 Axes>"
      ]
     },
     "metadata": {
      "needs_background": "light"
     },
     "output_type": "display_data"
    }
   ],
   "source": [
    "model_acc=np.array(all_accs).mean()\n",
    "print(\"Model accuracy: \",model_acc)\n",
    "\n",
    "model_prec=np.array(all_precs).mean()\n",
    "print(\"Model precision: \",model_prec)\n",
    "\n",
    "model_rec=np.array(all_recs).mean()\n",
    "print(\"Model recall: \",model_rec)\n",
    "\n",
    "model_f1=np.array(all_f1s).mean()\n",
    "print(\"Model f1: \",model_f1)\n",
    "\n",
    "from sklearn.metrics import confusion_matrix\n",
    "ConfusionMatrixDisplay(confusion_matrix(y_test,y_test_pred)).plot()"
   ]
  },
  {
   "cell_type": "markdown",
   "id": "1cf47271",
   "metadata": {},
   "source": [
    "### Random Forest"
   ]
  },
  {
   "cell_type": "code",
   "execution_count": 26,
   "id": "793db795",
   "metadata": {},
   "outputs": [],
   "source": [
    "#train 9000\n",
    "#test 1000"
   ]
  },
  {
   "cell_type": "code",
   "execution_count": 27,
   "id": "035114b7",
   "metadata": {},
   "outputs": [],
   "source": [
    "# Set the number of folds dont use\n",
    "n_folds = 10 #5\n",
    "\n",
    "# Create a KFold object\n",
    "kf = StratifiedKFold(n_splits=n_folds, shuffle=True, random_state=42)\n",
    "\n",
    "# Get the k-fold cross values\n",
    "folds = kf.split(X, y, groups=None)\n",
    "all_accs=[]\n",
    "all_precs=[]\n",
    "all_recs=[]\n",
    "all_f1s=[]\n",
    "\n",
    "# Print the k-fold cross values\n",
    "for i, (train_index, test_index) in enumerate(folds):\n",
    "    #print(f\"Fold {i+1}: train_index={train_index}, test_index={test_index}\")\n",
    "    \n",
    "    X_train,y_train= X.iloc[train_index],y.iloc[train_index]\n",
    "    X_test,y_test= X.iloc[test_index],y.iloc[test_index]\n",
    "    \n",
    "    rf = RandomForestClassifier(n_estimators=100, max_depth=8)\n",
    "    rf.fit(X_train,y_train)\n",
    "    \n",
    "    y_test_pred=rf.predict(X_test)\n",
    "    all_accs.append(accuracy_score(y_test,y_test_pred))\n",
    "    all_precs.append(precision_score(y_test,y_test_pred))\n",
    "    all_recs.append(recall_score(y_test,y_test_pred))\n",
    "    all_f1s.append(f1_score(y_test,y_test_pred))\n"
   ]
  },
  {
   "cell_type": "code",
   "execution_count": 28,
   "id": "f3ac1cfd",
   "metadata": {},
   "outputs": [
    {
     "name": "stdout",
     "output_type": "stream",
     "text": [
      "Model accuracy:  0.8615999999999999\n",
      "Model precision:  0.8074346393794292\n",
      "Model recall:  0.42171109823239644\n",
      "Model f1:  0.5529547602805998\n"
     ]
    },
    {
     "data": {
      "text/plain": [
       "<sklearn.metrics._plot.confusion_matrix.ConfusionMatrixDisplay at 0x2086cf35b20>"
      ]
     },
     "execution_count": 28,
     "metadata": {},
     "output_type": "execute_result"
    },
    {
     "data": {
      "image/png": "[encoded data removed]",
      "text/plain": [
       "<Figure size 432x288 with 2 Axes>"
      ]
     },
     "metadata": {
      "needs_background": "light"
     },
     "output_type": "display_data"
    }
   ],
   "source": [
    "model_acc=np.array(all_accs).mean()\n",
    "print(\"Model accuracy: \",model_acc)\n",
    "\n",
    "model_prec=np.array(all_precs).mean()\n",
    "print(\"Model precision: \",model_prec)\n",
    "\n",
    "model_rec=np.array(all_recs).mean()\n",
    "print(\"Model recall: \",model_rec)\n",
    "\n",
    "model_f1=np.array(all_f1s).mean()\n",
    "print(\"Model f1: \",model_f1)\n",
    "\n",
    "from sklearn.metrics import confusion_matrix\n",
    "ConfusionMatrixDisplay(confusion_matrix(y_test,y_test_pred)).plot()"
   ]
  },
  {
   "cell_type": "markdown",
   "id": "9ab7edca",
   "metadata": {},
   "source": [
    "### XGB Classifier"
   ]
  },
  {
   "cell_type": "code",
   "execution_count": 29,
   "id": "e58b6a09",
   "metadata": {},
   "outputs": [],
   "source": [
    "# Set the number of folds dont use\n",
    "n_folds = 10 #5\n",
    "\n",
    "# Create a KFold object\n",
    "kf = StratifiedKFold(n_splits=n_folds, shuffle=True, random_state=42)\n",
    "\n",
    "# Get the k-fold cross values\n",
    "folds = kf.split(X, y, groups=None)\n",
    "all_accs=[]\n",
    "all_precs=[]\n",
    "all_recs=[]\n",
    "all_f1s=[]\n",
    "\n",
    "# Print the k-fold cross values\n",
    "for i, (train_index, test_index) in enumerate(folds):\n",
    "    #print(f\"Fold {i+1}: train_index={train_index}, test_index={test_index}\")\n",
    "    \n",
    "    X_train,y_train= X.iloc[train_index],y.iloc[train_index]\n",
    "    X_test,y_test= X.iloc[test_index],y.iloc[test_index]\n",
    "    \n",
    "    xgb = XGBClassifier(n_estimators=50, max_depth=8, eval_metric ='logloss', use_label_encoder=False)\n",
    "    xgb.fit(X_train,y_train)\n",
    "    \n",
    "    y_test_pred=xgb.predict(X_test)\n",
    "    all_accs.append(accuracy_score(y_test,y_test_pred))\n",
    "    all_precs.append(precision_score(y_test,y_test_pred))\n",
    "    all_recs.append(recall_score(y_test,y_test_pred))\n",
    "    all_f1s.append(f1_score(y_test,y_test_pred))"
   ]
  },
  {
   "cell_type": "code",
   "execution_count": 30,
   "id": "6b3849ba",
   "metadata": {},
   "outputs": [
    {
     "name": "stdout",
     "output_type": "stream",
     "text": [
      "Model accuracy:  0.8545999999999999\n",
      "Model precision:  0.7114929544946798\n",
      "Model recall:  0.4811045107698252\n",
      "Model f1:  0.5732641263223747\n"
     ]
    },
    {
     "data": {
      "text/plain": [
       "<sklearn.metrics._plot.confusion_matrix.ConfusionMatrixDisplay at 0x2086cf24f40>"
      ]
     },
     "execution_count": 30,
     "metadata": {},
     "output_type": "execute_result"
    },
    {
     "data": {
      "image/png": "[encoded data removed]",
      "text/plain": [
       "<Figure size 432x288 with 2 Axes>"
      ]
     },
     "metadata": {
      "needs_background": "light"
     },
     "output_type": "display_data"
    }
   ],
   "source": [
    "model_acc=np.array(all_accs).mean()\n",
    "print(\"Model accuracy: \",model_acc)\n",
    "\n",
    "model_prec=np.array(all_precs).mean()\n",
    "print(\"Model precision: \",model_prec)\n",
    "\n",
    "model_rec=np.array(all_recs).mean()\n",
    "print(\"Model recall: \",model_rec)\n",
    "\n",
    "model_f1=np.array(all_f1s).mean()\n",
    "print(\"Model f1: \",model_f1)\n",
    "\n",
    "from sklearn.metrics import confusion_matrix\n",
    "ConfusionMatrixDisplay(confusion_matrix(y_test,y_test_pred)).plot()"
   ]
  },
  {
   "cell_type": "code",
   "execution_count": null,
   "id": "f8a2a3a2",
   "metadata": {},
   "outputs": [],
   "source": []
  },
  {
   "cell_type": "markdown",
   "id": "5e4b8865",
   "metadata": {},
   "source": [
    "### Decision Tree"
   ]
  },
  {
   "cell_type": "code",
   "execution_count": 31,
   "id": "9bbfd291",
   "metadata": {},
   "outputs": [],
   "source": [
    "# Set the number of folds dont use\n",
    "n_folds = 10 #5\n",
    "\n",
    "# Create a KFold object\n",
    "kf = StratifiedKFold(n_splits=n_folds, shuffle=True, random_state=42)\n",
    "\n",
    "# Get the k-fold cross values\n",
    "folds = kf.split(X, y, groups=None)\n",
    "all_accs=[]\n",
    "all_precs=[]\n",
    "all_recs=[]\n",
    "all_f1s=[]\n",
    "\n",
    "# Print the k-fold cross values\n",
    "for i, (train_index, test_index) in enumerate(folds):\n",
    "    #print(f\"Fold {i+1}: train_index={train_index}, test_index={test_index}\")\n",
    "    \n",
    "    X_train,y_train= X.iloc[train_index],y.iloc[train_index]\n",
    "    X_test,y_test= X.iloc[test_index],y.iloc[test_index]\n",
    "    \n",
    "    dt = DecisionTreeClassifier(max_depth=8)\n",
    "    dt.fit(X_train,y_train)\n",
    "    \n",
    "    y_test_pred=dt.predict(X_test)\n",
    "    all_accs.append(accuracy_score(y_test,y_test_pred))\n",
    "    all_precs.append(precision_score(y_test,y_test_pred))\n",
    "    all_recs.append(recall_score(y_test,y_test_pred))\n",
    "    all_f1s.append(f1_score(y_test,y_test_pred))"
   ]
  },
  {
   "cell_type": "code",
   "execution_count": 32,
   "id": "9d98c437",
   "metadata": {},
   "outputs": [
    {
     "name": "stdout",
     "output_type": "stream",
     "text": [
      "Model accuracy:  0.8525\n",
      "Model precision:  0.7161076520986074\n",
      "Model recall:  0.4565826330532213\n",
      "Model f1:  0.5572624756240679\n"
     ]
    },
    {
     "data": {
      "text/plain": [
       "<sklearn.metrics._plot.confusion_matrix.ConfusionMatrixDisplay at 0x2086d090b50>"
      ]
     },
     "execution_count": 32,
     "metadata": {},
     "output_type": "execute_result"
    },
    {
     "data": {
      "image/png": "[encoded data removed]",
      "text/plain": [
       "<Figure size 432x288 with 2 Axes>"
      ]
     },
     "metadata": {
      "needs_background": "light"
     },
     "output_type": "display_data"
    }
   ],
   "source": [
    "model_acc=np.array(all_accs).mean()\n",
    "print(\"Model accuracy: \",model_acc)\n",
    "\n",
    "model_prec=np.array(all_precs).mean()\n",
    "print(\"Model precision: \",model_prec)\n",
    "\n",
    "model_rec=np.array(all_recs).mean()\n",
    "print(\"Model recall: \",model_rec)\n",
    "\n",
    "model_f1=np.array(all_f1s).mean()\n",
    "print(\"Model f1: \",model_f1)\n",
    "\n",
    "from sklearn.metrics import confusion_matrix\n",
    "ConfusionMatrixDisplay(confusion_matrix(y_test,y_test_pred)).plot()"
   ]
  },
  {
   "cell_type": "code",
   "execution_count": null,
   "id": "ca743ada",
   "metadata": {},
   "outputs": [],
   "source": [
    "# Random FForest had the best accuracy and precision combonation; as well as recall and f1 score."
   ]
  },
  {
   "cell_type": "markdown",
   "id": "275b645c",
   "metadata": {},
   "source": [
    "### Grid Search Random Forest"
   ]
  },
  {
   "cell_type": "code",
   "execution_count": 33,
   "id": "6793f451",
   "metadata": {},
   "outputs": [],
   "source": [
    "from sklearn.model_selection import GridSearchCV"
   ]
  },
  {
   "cell_type": "code",
   "execution_count": 34,
   "id": "d7c0e9d5",
   "metadata": {},
   "outputs": [],
   "source": [
    "params={\"n_estimators\":[50,100,200],\"max_depth\":[5,10,20],\"min_samples_split\":[5,10]}\n",
    "rf = RandomForestClassifier()\n",
    "grid_search=GridSearchCV(rf,params,cv=5)"
   ]
  },
  {
   "cell_type": "code",
   "execution_count": 35,
   "id": "13c3ef01",
   "metadata": {},
   "outputs": [],
   "source": [
    "# Train_Test_Split\n",
    "from sklearn.model_selection import train_test_split\n",
    "x_train, x_test, y_train, y_test = train_test_split(X, y, test_size = 0.20, random_state = 0)"
   ]
  },
  {
   "cell_type": "code",
   "execution_count": 36,
   "id": "74519266",
   "metadata": {},
   "outputs": [
    {
     "data": {
      "text/plain": [
       "GridSearchCV(cv=5, estimator=RandomForestClassifier(),\n",
       "             param_grid={'max_depth': [5, 10, 20], 'min_samples_split': [5, 10],\n",
       "                         'n_estimators': [50, 100, 200]})"
      ]
     },
     "execution_count": 36,
     "metadata": {},
     "output_type": "execute_result"
    }
   ],
   "source": [
    "grid_search.fit(x_train,y_train)"
   ]
  },
  {
   "cell_type": "code",
   "execution_count": 37,
   "id": "cb58f075",
   "metadata": {},
   "outputs": [
    {
     "data": {
      "text/plain": [
       "{'max_depth': 10, 'min_samples_split': 10, 'n_estimators': 100}"
      ]
     },
     "execution_count": 37,
     "metadata": {},
     "output_type": "execute_result"
    }
   ],
   "source": [
    "grid_search.best_params_"
   ]
  },
  {
   "cell_type": "code",
   "execution_count": 38,
   "id": "6b3fb26b",
   "metadata": {},
   "outputs": [],
   "source": [
    "y_test_pred1=grid_search.best_estimator_.predict(x_test)"
   ]
  },
  {
   "cell_type": "code",
   "execution_count": 39,
   "id": "03adb9f8",
   "metadata": {
    "scrolled": true
   },
   "outputs": [
    {
     "name": "stdout",
     "output_type": "stream",
     "text": [
      "Model accuracy:  0.8665\n",
      "Model precision:  0.76953125\n",
      "Model recall:  0.48641975308641977\n",
      "Model f1:  0.5960665658093797\n"
     ]
    },
    {
     "data": {
      "text/plain": [
       "<sklearn.metrics._plot.confusion_matrix.ConfusionMatrixDisplay at 0x2086cf35c40>"
      ]
     },
     "execution_count": 39,
     "metadata": {},
     "output_type": "execute_result"
    },
    {
     "data": {
      "image/png": "[encoded data removed]",
      "text/plain": [
       "<Figure size 432x288 with 2 Axes>"
      ]
     },
     "metadata": {
      "needs_background": "light"
     },
     "output_type": "display_data"
    }
   ],
   "source": [
    "\n",
    "print(\"Model accuracy: \",accuracy_score(y_test,y_test_pred1))\n",
    "print(\"Model precision: \",precision_score(y_test,y_test_pred1))\n",
    "print(\"Model recall: \",recall_score(y_test,y_test_pred1))\n",
    "print(\"Model f1: \",f1_score(y_test,y_test_pred1))\n",
    "from sklearn.metrics import confusion_matrix\n",
    "ConfusionMatrixDisplay(confusion_matrix(y_test,y_test_pred1)).plot()"
   ]
  },
  {
   "cell_type": "code",
   "execution_count": 40,
   "id": "11a5f719",
   "metadata": {},
   "outputs": [],
   "source": [
    "# this model improved accuracy but decreased precision, not good for a dataset with imbalanced data."
   ]
  },
  {
   "cell_type": "markdown",
   "id": "ae64a72e",
   "metadata": {},
   "source": [
    "### Random Forrest had the best accuracy with 86.0% with a precision of nearly 81%. This is the best model since the dataset is imbalanced. This model was achieved without the GridSearch since that model resulted in a higher accuracy at the expense of a lower precision, which is not good for an imbalanced dataset. Age had the highest association with churn but it was a weak association.\n"
   ]
  }
 ],
 "metadata": {
  "kernelspec": {
   "display_name": "Python 3 (ipykernel)",
   "language": "python",
   "name": "python3"
  },
  "language_info": {
   "codemirror_mode": {
    "name": "ipython",
    "version": 3
   },
   "file_extension": ".py",
   "mimetype": "text/x-python",
   "name": "python",
   "nbconvert_exporter": "python",
   "pygments_lexer": "ipython3",
   "version": "3.8.11"
  }
 },
 "nbformat": 4,
 "nbformat_minor": 5
}
